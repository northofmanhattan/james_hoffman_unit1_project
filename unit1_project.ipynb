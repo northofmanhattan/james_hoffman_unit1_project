{
 "cells": [
  {
   "cell_type": "markdown",
   "metadata": {},
   "source": [
    "<img src=\"http://imgur.com/1ZcRyrc.png\" style=\"float: left; margin: 20px; height: 55px\">\n",
    "\n",
    "# Project 1: Python Coding Exercises\n",
    "\n",
    "_Authors: Joseph Nelson (DC) _\n",
    "\n",
    "---"
   ]
  },
  {
   "cell_type": "markdown",
   "metadata": {},
   "source": [
    "The following code challenges are drawn from common exercises used in technical interviews.\n",
    "\n",
    "Please note that there may be several ways to approach each challenge. If you get stuck, try mapping out your approach in pseudocode first. Finally, while solutions to problems like these may be found online, remember that if you copy/paste code that you can't explain, you'll be missing out on the point of the project. The only way to truly learn a new skill is through practice, trial, and error - we can only help you improve by understanding where you are having trouble."
   ]
  },
  {
   "cell_type": "markdown",
   "metadata": {},
   "source": [
    "### Challenge 1: Largest Palindrome\n",
    "A palindromic number reads the same both ways. For example, 1234321 is a palindrome. The largest palindrome made from the product of two two-digit numbers is 9009 = 91 × 99. Find the largest palindrome made from the product of two three-digit numbers. Afterward, write a brief explanation walking through your code's logic in markdown."
   ]
  },
  {
   "cell_type": "markdown",
   "metadata": {},
   "source": [
    "### Code"
   ]
  },
  {
   "cell_type": "code",
   "execution_count": 188,
   "metadata": {},
   "outputs": [
    {
     "name": "stdout",
     "output_type": "stream",
     "text": [
      "906609\n"
     ]
    }
   ],
   "source": [
    "palindrome_found = False\n",
    "largest_factor = 999\n",
    "smallest_factor = 900\n",
    "non_prime_set = set()\n",
    "\n",
    "for base_factor in range(smallest_factor,largest_factor+1):\n",
    "    for multiplier in range(smallest_factor,base_factor+1):\n",
    "        product = base_factor * multiplier\n",
    "        non_prime_set.add(product)\n",
    "        \n",
    "non_prime_list = list(non_prime_set)\n",
    "non_prime_list.sort(reverse=True)\n",
    "\n",
    "for number in non_prime_list:\n",
    "    if palindrome_found == False:\n",
    "        i_as_list = list(str(number))\n",
    "        while (len(i_as_list) > 1) and (i_as_list[0] == i_as_list[-1]):\n",
    "            i_as_list.pop()\n",
    "            i_as_list.reverse()\n",
    "            i_as_list.pop()\n",
    "            if len(str(number)) % 2 == 0:\n",
    "                if len(i_as_list) == 0:\n",
    "                    palindrome_found = True\n",
    "                    print(number)\n",
    "            else:\n",
    "                if len(i_as_list) == 1:\n",
    "                    palindrome_found = True\n",
    "                    print(number)"
   ]
  },
  {
   "cell_type": "markdown",
   "metadata": {},
   "source": [
    "### Explanation"
   ]
  },
  {
   "cell_type": "markdown",
   "metadata": {},
   "source": [
    "- We create a set and populate it with the products of the largest three-digit factors\n",
    "    - The base factor ranges from the smallest_factor to the largest_factor\n",
    "    - The multipliers that need to be included range from the smallest_factor to the base_factor\n",
    "        - This covers all factor combinations\n",
    "- We convert that set into a list and sort it in descending order\n",
    "- We check each number in the set by:\n",
    "    - turning its digits into a list\n",
    "    - repeatedly popping the first and last digit from the list if they're equal\n",
    "    - In the case of a number with an even number of digits, the first list to become empty is the palindrome we want\n",
    "    - In the case of a number with an odd number of digits, the first list to have one digit remaining is the palindrome we want\n",
    "- Once the palindrome is found, we flip the boolean and stop executing the body of the for loop to limit runtime\n",
    "<br><br>\n",
    "- Note: To find the largest palindrome in any range, just replace the largest_factor and smallest_factor values"
   ]
  },
  {
   "cell_type": "markdown",
   "metadata": {},
   "source": [
    "\n",
    "### Challenge 2: Summation of Primes\n",
    "The sum of the primes below 10 is 2 + 3 + 5 + 7 = 17. Find the sum of all the primes below 2,000. Afterward, write a brief explanation walking through your code's logic in markdown."
   ]
  },
  {
   "cell_type": "markdown",
   "metadata": {},
   "source": [
    "### Code"
   ]
  },
  {
   "cell_type": "code",
   "execution_count": 190,
   "metadata": {},
   "outputs": [
    {
     "name": "stdout",
     "output_type": "stream",
     "text": [
      "277050\n"
     ]
    }
   ],
   "source": [
    "import math\n",
    "\n",
    "N = 2000\n",
    "complete_set = set(range(2,N))\n",
    "non_prime_set = set()\n",
    "\n",
    "for base_factor in range(2,math.ceil(math.sqrt(N))+1):\n",
    "    for multiplier in range(2,(N//base_factor)+1):\n",
    "        result = base_factor * multiplier\n",
    "        non_prime_set.add(result)\n",
    "prime_set = complete_set.difference(non_prime_set)\n",
    "#print(sorted(multiples,key=int))\n",
    "\n",
    "sum_of_primes = sum(list(prime_set))\n",
    "print(sum_of_primes)"
   ]
  },
  {
   "cell_type": "markdown",
   "metadata": {},
   "source": [
    "### Explanation"
   ]
  },
  {
   "cell_type": "markdown",
   "metadata": {},
   "source": [
    "- We initialize a complete set of numbers between $2$ and $2000$ ($N$)\n",
    "    - 1 is excluded because it's not prime\n",
    "- We populate another set with all the composite numbers between $2$ and $2000$ by multiplying all factors together with a product below $2000$ and adding the result to the composite set\n",
    "    - The base factor ranges from $2$ to $45$ (the ceiling of $\\sqrt{N}$)\n",
    "    - The multipliers that need to be included range from $2$ to the floor of $\\frac{N}{base\\,factor}$\n",
    "        - This covers all factor combinations\n",
    "- By taking the difference between the complete set and the composite set, we get the prime set\n",
    "- Finally, we sum the values in the prime set\n",
    "<br><br>\n",
    "- Note: To find the sum of all the primes below any number $N$, just replace the value of $N$"
   ]
  },
  {
   "cell_type": "markdown",
   "metadata": {},
   "source": [
    "### Challenge 3: Multiples of 3 and 5\n",
    "If we list all of the natural numbers below 10 that are multiples of 3 or 5, we get 3, 5, 6, and 9. The sum of these multiples is 23. Find the sum of all the multiples of 3 or 5 below 1,000. Afterward, write a brief explanation walking through your code's logic in markdown."
   ]
  },
  {
   "cell_type": "markdown",
   "metadata": {},
   "source": [
    "### Code"
   ]
  },
  {
   "cell_type": "code",
   "execution_count": 211,
   "metadata": {},
   "outputs": [
    {
     "name": "stdout",
     "output_type": "stream",
     "text": [
      "233168\n"
     ]
    }
   ],
   "source": [
    "N = 1000\n",
    "product_set = set()\n",
    "\n",
    "for base_factor in [3,5]:\n",
    "    for multiplier in range(1,(N//base_factor)+1):\n",
    "        product = base_factor * multiplier\n",
    "        product_set.add(product)   \n",
    "product_set.remove(N)\n",
    "#print(sorted(multiples,key=int))\n",
    "\n",
    "sum_of_products = sum(list(product_set))\n",
    "print(sum_of_products)"
   ]
  },
  {
   "cell_type": "markdown",
   "metadata": {},
   "source": [
    "### Explanation"
   ]
  },
  {
   "cell_type": "markdown",
   "metadata": {},
   "source": [
    "- We use the same process that we used to create the composite set in Challenge 2\n",
    "    - We populate a set with the products between $2$ and $1000$ ($N$) by multiplying the factors $3$ or $5$ such that the result is less than or equal to $1000$ and adding the result to the product set\n",
    "        - The base factors are $3$ and $5$\n",
    "        - The multipliers that need to be included range from $2$ to the floor of $\\frac{N}{base\\,factor}$\n",
    "            - This covers all factor combinations\n",
    "    - We remove $N$ from the product set since we only want multiples below $N$\n",
    "    - Finally, we sum the values in the prime set\n",
    "<br><br>\n",
    "    - Note: To find the sum of all the primes below any number $N$, just replace the value of $N$"
   ]
  },
  {
   "cell_type": "markdown",
   "metadata": {},
   "source": [
    "### Challenge 4: String Compressor\n",
    "Implement a method to perform basic string compression using the counts of repeated characters. (This is called run-length encoding.) For example, the string \"aabcccccaaa\" would become a2b1c5a3. If the “compressed” string would not become smaller than the original string, your method should return the original string. You can assume the string has only uppercase and lowercase letters (a–z). Specify whether your solution is case sensitive or case insensitive and what you would need to change to make it the other. Afterward, write a brief explanation walking through your code's logic in markdown."
   ]
  },
  {
   "cell_type": "markdown",
   "metadata": {},
   "source": [
    "### Code"
   ]
  },
  {
   "cell_type": "code",
   "execution_count": 220,
   "metadata": {},
   "outputs": [],
   "source": [
    "def encode_string(string_to_encode):\n",
    "    if not string_to_encode.isalpha():\n",
    "        raise Exception(\"The input string contains non-alpha characters.\")\n",
    "    \n",
    "    string_as_list = list(string_to_encode)\n",
    "    encoded_list = []\n",
    "    count = 1\n",
    "\n",
    "    for i in range(0,len(string_as_list)):\n",
    "        try:\n",
    "            if string_as_list[i] == string_as_list[i+1]:\n",
    "                count += 1\n",
    "            else:\n",
    "                encoded_list.append(string_as_list[i])\n",
    "                encoded_list.append(count)\n",
    "                count = 1\n",
    "        except IndexError:\n",
    "            encoded_list.append(string_as_list[i])\n",
    "            encoded_list.append(count)\n",
    "\n",
    "    encoded_string = ''.join(map(str,encoded_list))\n",
    "    \n",
    "    if len(encoded_string) < len(string_to_encode):\n",
    "        return encoded_string\n",
    "    else:\n",
    "        return string_to_encode\n",
    "        \n",
    "# Test that string encoding works\n",
    "assert encode_string(\"aabcccccaaa\") == \"a2b1c5a3\"\n",
    "assert encode_string(\"BBbbggGGG\") == \"B2b2g2G3\"\n",
    "# Test that the encoded string does not become longer than the original\n",
    "assert encode_string(\"abcd\") == \"abcd\"\n",
    "assert encode_string(\"abbccddd\") == \"abbccddd\""
   ]
  },
  {
   "cell_type": "markdown",
   "metadata": {},
   "source": [
    "### Explanation"
   ]
  },
  {
   "cell_type": "markdown",
   "metadata": {},
   "source": [
    "- We perform input validation to check that that the string only contains alpha characters\n",
    "- We convert the input string to a list of characters and create an empty list to store the encoded items\n",
    "- For each character in the input string list we compare the character to the character after it\n",
    "    - If it's the same we increase the counter\n",
    "    - Otherwise, we add the character and the current count to the list of encoded items and reset the counter\n",
    "    - When the last character in the string is tested, the list index will be out of range since there is no item after it and an exception will occur\n",
    "        - In this case, we add this final character and the current count to the list of encoded items\n",
    "- We map the integers in the list to strings and convert the list to a string\n",
    "- If the encoded string is shorter than the original we return the encoded string, otherwise we return the original\n",
    "- We test the method by passing in test strings and asserting that the returned values match the expected result\n",
    "<br><br>\n",
    "- This solution is case-sensitive\n",
    "- To make the solution case insensitive, we just need to apply the .lower() method to string_to_encode before converting it to a list"
   ]
  },
  {
   "cell_type": "markdown",
   "metadata": {},
   "source": []
  },
  {
   "cell_type": "markdown",
   "metadata": {},
   "source": [
    "### Challenge 5: FizzBuzz\n",
    "\n",
    "Write a program that prints all of the numbers from 1 to 100. For multiples of 3, instead of the number, print \"Fizz;\" for multiples of 5, print \"Buzz.\" For numbers that are multiples of both 3 and 5, print \"FizzBuzz.\" Afterward, write a brief explanation walking through your code's logic in markdown."
   ]
  },
  {
   "cell_type": "markdown",
   "metadata": {},
   "source": [
    "### Code"
   ]
  },
  {
   "cell_type": "code",
   "execution_count": 130,
   "metadata": {},
   "outputs": [
    {
     "name": "stdout",
     "output_type": "stream",
     "text": [
      "1\n",
      "2\n",
      "Fizz\n",
      "4\n",
      "Buzz\n",
      "Fizz\n",
      "7\n",
      "8\n",
      "Fizz\n",
      "Buzz\n",
      "11\n",
      "Fizz\n",
      "13\n",
      "14\n",
      "FizzBuzz\n",
      "16\n",
      "17\n",
      "Fizz\n",
      "19\n",
      "Buzz\n",
      "Fizz\n",
      "22\n",
      "23\n",
      "Fizz\n",
      "Buzz\n",
      "26\n",
      "Fizz\n",
      "28\n",
      "29\n",
      "FizzBuzz\n",
      "31\n",
      "32\n",
      "Fizz\n",
      "34\n",
      "Buzz\n",
      "Fizz\n",
      "37\n",
      "38\n",
      "Fizz\n",
      "Buzz\n",
      "41\n",
      "Fizz\n",
      "43\n",
      "44\n",
      "FizzBuzz\n",
      "46\n",
      "47\n",
      "Fizz\n",
      "49\n",
      "Buzz\n",
      "Fizz\n",
      "52\n",
      "53\n",
      "Fizz\n",
      "Buzz\n",
      "56\n",
      "Fizz\n",
      "58\n",
      "59\n",
      "FizzBuzz\n",
      "61\n",
      "62\n",
      "Fizz\n",
      "64\n",
      "Buzz\n",
      "Fizz\n",
      "67\n",
      "68\n",
      "Fizz\n",
      "Buzz\n",
      "71\n",
      "Fizz\n",
      "73\n",
      "74\n",
      "FizzBuzz\n",
      "76\n",
      "77\n",
      "Fizz\n",
      "79\n",
      "Buzz\n",
      "Fizz\n",
      "82\n",
      "83\n",
      "Fizz\n",
      "Buzz\n",
      "86\n",
      "Fizz\n",
      "88\n",
      "89\n",
      "FizzBuzz\n",
      "91\n",
      "92\n",
      "Fizz\n",
      "94\n",
      "Buzz\n",
      "Fizz\n",
      "97\n",
      "98\n",
      "Fizz\n",
      "Buzz\n"
     ]
    }
   ],
   "source": [
    "N = 100\n",
    "\n",
    "for i in range(1,N + 1):\n",
    "    if i % 3 == 0 and i % 5 == 0:\n",
    "        print(\"FizzBuzz\")\n",
    "    elif i % 3 == 0:\n",
    "        print(\"Fizz\")\n",
    "    elif i % 5 == 0:\n",
    "        print(\"Buzz\")\n",
    "    else:\n",
    "        print(i)"
   ]
  },
  {
   "cell_type": "markdown",
   "metadata": {},
   "source": [
    "### Explanation"
   ]
  },
  {
   "cell_type": "markdown",
   "metadata": {},
   "source": [
    "- We loop through the values 1 to 100 ($N$)\n",
    "    - We check the most stringent condition first\n",
    "        - If the value is divisible by 3 and 5, we print \"FizzBuzz\"\n",
    "    - We check the two other interchangeable conditions\n",
    "        - If the value is divisible by 3, we print \"Fizz\"\n",
    "        - If the value is divisible by 5, we print \"Buzz\"\n",
    "    - Otherwise we print the value\n",
    "<br><br>        \n",
    "- Note: To print the results up to any number $N$, just replace the value of $N$"
   ]
  },
  {
   "cell_type": "code",
   "execution_count": null,
   "metadata": {},
   "outputs": [],
   "source": []
  }
 ],
 "metadata": {
  "anaconda-cloud": {},
  "kernelspec": {
   "display_name": "Python 3",
   "language": "python",
   "name": "python3"
  },
  "language_info": {
   "codemirror_mode": {
    "name": "ipython",
    "version": 3
   },
   "file_extension": ".py",
   "mimetype": "text/x-python",
   "name": "python",
   "nbconvert_exporter": "python",
   "pygments_lexer": "ipython3",
   "version": "3.6.5"
  }
 },
 "nbformat": 4,
 "nbformat_minor": 2
}
